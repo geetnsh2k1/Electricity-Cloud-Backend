{
 "cells": [
  {
   "cell_type": "code",
   "execution_count": 1,
   "id": "af06bfd5",
   "metadata": {},
   "outputs": [],
   "source": [
    "import pandas as pd\n",
    "import gspread\n",
    "import gspread_dataframe as gd"
   ]
  },
  {
   "cell_type": "code",
   "execution_count": 2,
   "id": "c6031825",
   "metadata": {},
   "outputs": [],
   "source": [
    "def establish_connection(cred_file='./cred.json'):\n",
    "    response = dict()\n",
    "    response['status'] = True\n",
    "    try:\n",
    "        response['data'] = gspread.service_account(cred_file)\n",
    "    except Exception as e:\n",
    "        response['status'] = False\n",
    "        response['data'] = e\n",
    "    return response"
   ]
  },
  {
   "cell_type": "code",
   "execution_count": 3,
   "id": "d0fbdf09",
   "metadata": {},
   "outputs": [],
   "source": [
    "def get_sheet(gc: gspread.service_account, sheet, worksheet=None):\n",
    "    response = dict()\n",
    "    response['status'] = True\n",
    "    try:\n",
    "        sheet = gc.open(sheet)\n",
    "        if worksheet == None:\n",
    "            worksheets = sheet.worksheets()\n",
    "            if len(worksheets) >= 1:\n",
    "                worksheet = worksheets[0].title\n",
    "            else:\n",
    "                raise Exception(f\"Error: No worksheet available to work with {sheet}\")\n",
    "        response['data'] = sheet.worksheet(worksheet)\n",
    "    except Exception as e:\n",
    "        response['status'] = False\n",
    "        response['data'] = e\n",
    "    return response"
   ]
  },
  {
   "cell_type": "code",
   "execution_count": 4,
   "id": "7cd060a2",
   "metadata": {},
   "outputs": [],
   "source": [
    "def get_dataframe(csv_file):\n",
    "    response = dict()\n",
    "    response['status'] = True\n",
    "    try:\n",
    "        response['data'] = pd.read_csv(csv_file)\n",
    "    except Exception as e:\n",
    "        response['status'] = False\n",
    "        response['data'] = e\n",
    "    return response"
   ]
  },
  {
   "cell_type": "code",
   "execution_count": 5,
   "id": "5668ace1",
   "metadata": {},
   "outputs": [],
   "source": [
    "def write_to_gsheet(worksheet, df: pd.DataFrame):\n",
    "    response = dict()\n",
    "    response['status'] = True\n",
    "    try:\n",
    "        worksheet.clear()\n",
    "        gd.set_with_dataframe(worksheet=worksheet,dataframe=df,include_index=False,include_column_header=True,resize=True)\n",
    "        response['data'] = 'successful!'\n",
    "    except Exception as e:\n",
    "        response['status'] = False\n",
    "        response['data'] = e\n",
    "    return response"
   ]
  },
  {
   "cell_type": "code",
   "execution_count": 6,
   "id": "8e68701b",
   "metadata": {},
   "outputs": [],
   "source": [
    "def main(cred_file, csv_file, sheet, worksheet=None):\n",
    "    response = dict()\n",
    "    response['status'] = True\n",
    "    try:\n",
    "        resp = establish_connection(cred_file)\n",
    "        if resp['status'] == False:\n",
    "            raise Exception(resp['data'])\n",
    "        \n",
    "        gc = resp['data']\n",
    "        \n",
    "        resp = get_sheet(gc, sheet, worksheet)\n",
    "        if resp['status'] == False:\n",
    "            raise Exception(resp['data'])\n",
    "        \n",
    "        worksheet = resp['data']\n",
    "        \n",
    "        resp = get_dataframe(csv_file)\n",
    "        if resp['status'] == False:\n",
    "            raise Exception(resp['data'])\n",
    "        \n",
    "        df = resp['data']\n",
    "        \n",
    "        resp = write_to_gsheet(worksheet, df)\n",
    "        if resp['status'] == False:\n",
    "            raise Exception(resp['data'])\n",
    "        \n",
    "        response['data'] = resp['data']\n",
    "        \n",
    "    except Exception as e:\n",
    "        response['status'] = False\n",
    "        response['data'] = e\n",
    "    return response"
   ]
  },
  {
   "cell_type": "code",
   "execution_count": 7,
   "id": "ba8f8146",
   "metadata": {},
   "outputs": [
    {
     "data": {
      "text/plain": [
       "{'status': True, 'data': 'successful!'}"
      ]
     },
     "execution_count": 7,
     "metadata": {},
     "output_type": "execute_result"
    }
   ],
   "source": [
    "cred_file = './cred.json'\n",
    "csv_file = './electricity.csv'\n",
    "\n",
    "sheet = \"electricity\"\n",
    "worksheet = \"data\"\n",
    "\n",
    "main(cred_file, csv_file, sheet, worksheet)"
   ]
  }
 ],
 "metadata": {
  "kernelspec": {
   "display_name": "Python 3 (ipykernel)",
   "language": "python",
   "name": "python3"
  },
  "language_info": {
   "codemirror_mode": {
    "name": "ipython",
    "version": 3
   },
   "file_extension": ".py",
   "mimetype": "text/x-python",
   "name": "python",
   "nbconvert_exporter": "python",
   "pygments_lexer": "ipython3",
   "version": "3.9.6"
  }
 },
 "nbformat": 4,
 "nbformat_minor": 5
}
