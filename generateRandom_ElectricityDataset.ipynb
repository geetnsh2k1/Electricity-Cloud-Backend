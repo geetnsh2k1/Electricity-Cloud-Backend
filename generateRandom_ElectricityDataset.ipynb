{
 "cells": [
  {
   "cell_type": "code",
   "execution_count": 1,
   "id": "4c559d38",
   "metadata": {},
   "outputs": [],
   "source": [
    "import pandas as pd\n",
    "import datetime\n",
    "import random"
   ]
  },
  {
   "cell_type": "code",
   "execution_count": 2,
   "id": "acdd4ee5",
   "metadata": {},
   "outputs": [],
   "source": [
    "def get_random_datetime():\n",
    "    now = datetime.datetime.now()\n",
    "    min_year = 2021\n",
    "    max_year = now.year\n",
    "    \n",
    "    year = random.randint(min_year, max_year)\n",
    "    \n",
    "    if year == now.year:\n",
    "        month = random.randint(1, now.month)\n",
    "    else:\n",
    "        month = random.randint(1, 12)\n",
    "    \n",
    "    date = 1\n",
    "    \n",
    "    if month == 2:\n",
    "        date = random.randint(1, 28)\n",
    "    elif month == 1 or month == 3 or month == 5 or month == 7 or month == 8 or month == 10 or month == 12:\n",
    "        date = random.randint(1, 31)\n",
    "    else:\n",
    "        date = random.randint(1, 30)\n",
    "    \n",
    "    hour = random.randint(0, 23)\n",
    "    minutes = random.randint(0, 59)\n",
    "    seconds = random.randint(0, 59)\n",
    "    \n",
    "    obj = datetime.datetime(year, month, date, hour, minutes, seconds)\n",
    "    \n",
    "    return obj"
   ]
  },
  {
   "cell_type": "code",
   "execution_count": 3,
   "id": "a82dd111",
   "metadata": {},
   "outputs": [],
   "source": [
    "def get_data(date):\n",
    "    voltage = round(random.random()*240, 2)\n",
    "    current = round(random.random()*10, 2)\n",
    "    power = round(voltage*current, 2)\n",
    "    turned_off = datetime.datetime(date.year, date.month, date.day, random.randint(date.hour, 23), random.randint(date.minute, 59), random.randint(date.second, 59))\n",
    "    span = turned_off - date\n",
    "    span = int(span.days * 8640 + span.seconds)\n",
    "    return [date, voltage, current, power, span]"
   ]
  },
  {
   "cell_type": "code",
   "execution_count": 4,
   "id": "9a5068e6",
   "metadata": {},
   "outputs": [],
   "source": [
    "df = pd.DataFrame(columns=[\"turned_on\", \"voltage\", \"current\", \"power\", \"span\"])"
   ]
  },
  {
   "cell_type": "code",
   "execution_count": 5,
   "id": "6e7910fa",
   "metadata": {},
   "outputs": [],
   "source": [
    "for i in range(1000):\n",
    "    df.loc['O'+str(i)] = get_data(get_random_datetime())"
   ]
  },
  {
   "cell_type": "code",
   "execution_count": 6,
   "id": "4aa043e2",
   "metadata": {},
   "outputs": [],
   "source": [
    "df['span'] = df['span'].astype(int)"
   ]
  },
  {
   "cell_type": "code",
   "execution_count": 7,
   "id": "ce989632",
   "metadata": {},
   "outputs": [],
   "source": [
    "df.to_csv(r'./electricity.csv', index = False, header = True)"
   ]
  }
 ],
 "metadata": {
  "kernelspec": {
   "display_name": "Python 3 (ipykernel)",
   "language": "python",
   "name": "python3"
  },
  "language_info": {
   "codemirror_mode": {
    "name": "ipython",
    "version": 3
   },
   "file_extension": ".py",
   "mimetype": "text/x-python",
   "name": "python",
   "nbconvert_exporter": "python",
   "pygments_lexer": "ipython3",
   "version": "3.9.6"
  }
 },
 "nbformat": 4,
 "nbformat_minor": 5
}
