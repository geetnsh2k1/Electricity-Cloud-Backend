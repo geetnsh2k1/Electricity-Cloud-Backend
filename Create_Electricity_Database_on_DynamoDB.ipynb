{
 "cells": [
  {
   "cell_type": "code",
   "execution_count": 1,
   "id": "cc22183b",
   "metadata": {},
   "outputs": [],
   "source": [
    "import boto3\n",
    "import json"
   ]
  },
  {
   "cell_type": "code",
   "execution_count": 2,
   "id": "45b4d2de",
   "metadata": {},
   "outputs": [],
   "source": [
    "def read_json(file='./iamcred.json'):\n",
    "    response = dict()\n",
    "    response['status'] = True\n",
    "    try:\n",
    "        with open(file, 'r') as file:\n",
    "            response['data'] = json.load(file)\n",
    "    except Exception as e:\n",
    "        response['status'] = False\n",
    "        response['data'] = e\n",
    "    return response"
   ]
  },
  {
   "cell_type": "code",
   "execution_count": 3,
   "id": "407994d1",
   "metadata": {},
   "outputs": [],
   "source": [
    "def get_dynamodb_resource(data):\n",
    "    response = dict()\n",
    "    response['status'] = True\n",
    "    try:\n",
    "        response['data'] = boto3.resource(\n",
    "            service_name = data['service_name'],\n",
    "            region_name = data['region_name'],\n",
    "            aws_access_key_id = data['aws_access_key_id'],\n",
    "            aws_secret_access_key = data['aws_secret_access_key']\n",
    "        )\n",
    "    except Exception as e:\n",
    "        response['status'] = False\n",
    "        response['data'] = e\n",
    "    return response"
   ]
  },
  {
   "cell_type": "code",
   "execution_count": 4,
   "id": "7224b3e0",
   "metadata": {},
   "outputs": [],
   "source": [
    "def create_table(dynamodb, data):\n",
    "    response = dict()\n",
    "    response['status'] = True\n",
    "    try:\n",
    "        dynamodb.create_table(\n",
    "            TableName = data['TableName'],\n",
    "            KeySchema = data['KeySchema'],\n",
    "            AttributeDefinitions = data['AttributeDefinitions'],\n",
    "            ProvisionedThroughput = data['ProvisionedThroughput']\n",
    "        )\n",
    "        response['data'] = 'successful!'\n",
    "    except Exception as e:\n",
    "        response['status'] = False\n",
    "        response['data'] = e\n",
    "    return response"
   ]
  },
  {
   "cell_type": "code",
   "execution_count": 5,
   "id": "e1a24827",
   "metadata": {},
   "outputs": [],
   "source": [
    "def main(iamcred_file, table_data):\n",
    "    response = dict()\n",
    "    response['status'] = True\n",
    "    try:\n",
    "        resp = read_json(iamcred_file)\n",
    "        if resp['status'] == False:\n",
    "            raise Exception(resp['data'])\n",
    "        creds = resp['data']\n",
    "        \n",
    "        resp = get_dynamodb_resource(creds)\n",
    "        if resp['status'] == False:\n",
    "            raise Exception(resp['data'])\n",
    "        dynamodb = resp['data']\n",
    "        \n",
    "        resp = create_table(dynamodb, table_data)\n",
    "        if resp['status'] == False:\n",
    "            raise Exception(resp['data'])\n",
    "        response['data'] = resp['data']\n",
    "        \n",
    "    except Exception as e:\n",
    "        response['status'] = False\n",
    "        response['data'] = e\n",
    "    return response"
   ]
  },
  {
   "cell_type": "code",
   "execution_count": 6,
   "id": "2d5ffa56",
   "metadata": {},
   "outputs": [
    {
     "data": {
      "text/plain": [
       "{'status': True, 'data': 'successful!'}"
      ]
     },
     "execution_count": 6,
     "metadata": {},
     "output_type": "execute_result"
    }
   ],
   "source": [
    "iamcred_file = './iamcred.json'\n",
    "TableName = 'Electricity'\n",
    "table_data = {\n",
    "    'TableName': TableName,\n",
    "    'KeySchema': [\n",
    "        {\n",
    "            'AttributeName': 'turned_on', \n",
    "            'KeyType': 'HASH'\n",
    "        }\n",
    "    ],\n",
    "    'AttributeDefinitions': [\n",
    "        {\n",
    "           'AttributeName': 'turned_on',\n",
    "           'AttributeType': 'N'\n",
    "        },\n",
    "    ],\n",
    "    'ProvisionedThroughput': {\n",
    "        'ReadCapacityUnits':5,\n",
    "        'WriteCapacityUnits':5\n",
    "    }\n",
    "}\n",
    "main(iamcred_file, table_data)"
   ]
  }
 ],
 "metadata": {
  "kernelspec": {
   "display_name": "Python 3 (ipykernel)",
   "language": "python",
   "name": "python3"
  },
  "language_info": {
   "codemirror_mode": {
    "name": "ipython",
    "version": 3
   },
   "file_extension": ".py",
   "mimetype": "text/x-python",
   "name": "python",
   "nbconvert_exporter": "python",
   "pygments_lexer": "ipython3",
   "version": "3.9.6"
  }
 },
 "nbformat": 4,
 "nbformat_minor": 5
}
